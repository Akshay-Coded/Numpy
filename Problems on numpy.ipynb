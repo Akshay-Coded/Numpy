{
 "cells": [
  {
   "cell_type": "markdown",
   "id": "4c9f123f",
   "metadata": {},
   "source": [
    "Compute the Kronecker product of two multidimension NumPy arrays"
   ]
  },
  {
   "cell_type": "code",
   "execution_count": 1,
   "id": "40f70dc2",
   "metadata": {},
   "outputs": [
    {
     "name": "stdout",
     "output_type": "stream",
     "text": [
      "Array1:\n",
      " [[1 2]\n",
      " [3 4]]\n",
      "\n",
      "Array2:\n",
      " [[5 6]\n",
      " [7 8]]\n",
      "\n",
      "Array1 ⊗ Array2:\n",
      "[[ 5  6 10 12]\n",
      " [ 7  8 14 16]\n",
      " [15 18 20 24]\n",
      " [21 24 28 32]]\n"
     ]
    }
   ],
   "source": [
    "# Importing required modules\n",
    "import numpy\n",
    "\n",
    "# Creating arrays\n",
    "array1 = numpy.array([[1, 2], [3, 4]])\n",
    "print('Array1:\\n', array1)\n",
    "\n",
    "array2 = numpy.array([[5, 6], [7, 8]])\n",
    "print('\\nArray2:\\n', array2)\n",
    "\n",
    "# Computing the Kronecker Product\n",
    "kroneckerProduct = numpy.kron(array1, array2)\n",
    "print('\\nArray1 ⊗ Array2:')\n",
    "print(kroneckerProduct)"
   ]
  },
  {
   "cell_type": "markdown",
   "id": "bf34a599",
   "metadata": {},
   "source": [
    "NumPy – Fibonacci Series using Binet Formula"
   ]
  },
  {
   "cell_type": "code",
   "execution_count": 2,
   "id": "c5d123a4",
   "metadata": {},
   "outputs": [
    {
     "name": "stdout",
     "output_type": "stream",
     "text": [
      "The first 10 numbers of Fibonacci series are [ 1.  1.  2.  3.  5.  8. 13. 21. 34. 55.] . \n"
     ]
    }
   ],
   "source": [
    "import numpy as np\n",
    "\n",
    "# We are creating an array contains n = 10 elements\n",
    "# for getting first 10 Fibonacci numbers\n",
    "a = np.arange(1, 11)\n",
    "lengthA = len(a)\n",
    "\n",
    "# splitting of terms for easiness\n",
    "sqrtFive = np.sqrt(5)\n",
    "alpha = (1 + sqrtFive) / 2\n",
    "beta = (1 - sqrtFive) / 2\n",
    "\n",
    "# Implementation of formula\n",
    "# np.rint is used for rounding off to integer\n",
    "Fn = np.rint(((alpha ** a) - (beta ** a)) / (sqrtFive))\n",
    "print(\"The first {} numbers of Fibonacci series are {} . \".format(lengthA, Fn))"
   ]
  },
  {
   "cell_type": "markdown",
   "id": "ad7fb13d",
   "metadata": {},
   "source": [
    "How to compute the eigenvalues and right eigenvectors of a given square array using NumPY?"
   ]
  },
  {
   "cell_type": "code",
   "execution_count": 4,
   "id": "2b88af63",
   "metadata": {},
   "outputs": [
    {
     "name": "stdout",
     "output_type": "stream",
     "text": [
      "Printing the Original square array:\n",
      " [[1 2]\n",
      " [2 3]]\n",
      "Printing the Eigen values of the given square array:\n",
      " [-0.23606798  4.23606798]\n",
      "Printing Right eigenvectors of the given square array:\n",
      " [[-0.85065081 -0.52573111]\n",
      " [ 0.52573111 -0.85065081]]\n"
     ]
    }
   ],
   "source": [
    "# importing numpy library\n",
    "import numpy as np\n",
    "\n",
    "# create numpy 2d-array\n",
    "m = np.array([[1, 2],\n",
    "            [2, 3]])\n",
    "\n",
    "print(\"Printing the Original square array:\\n\",\n",
    "    m)\n",
    "\n",
    "# finding eigenvalues and eigenvectors\n",
    "w, v = np.linalg.eig(m)\n",
    "\n",
    "# printing eigen values\n",
    "print(\"Printing the Eigen values of the given square array:\\n\",\n",
    "    w)\n",
    "\n",
    "# printing eigen vectors\n",
    "print(\"Printing Right eigenvectors of the given square array:\\n\",\n",
    "    v)\n"
   ]
  },
  {
   "cell_type": "markdown",
   "id": "ccf42bc0",
   "metadata": {},
   "source": [
    "Calculate the Euclidean distance using NumPy"
   ]
  },
  {
   "cell_type": "code",
   "execution_count": 6,
   "id": "80e4ede9",
   "metadata": {},
   "outputs": [
    {
     "name": "stdout",
     "output_type": "stream",
     "text": [
      "2.23606797749979\n"
     ]
    }
   ],
   "source": [
    "# Python code to find Euclidean distance\n",
    "# using linalg.norm()\n",
    "\n",
    "import numpy as np\n",
    "\n",
    "# initializing points in\n",
    "# numpy arrays\n",
    "point1 = np.array((1, 2, 3))\n",
    "point2 = np.array((1, 1, 1))\n",
    "\n",
    "# calculating Euclidean distance\n",
    "# using linalg.norm()\n",
    "dist = np.linalg.norm(point1 - point2)\n",
    "\n",
    "# printing Euclidean distance\n",
    "print(dist)"
   ]
  },
  {
   "cell_type": "markdown",
   "id": "7411df5f",
   "metadata": {},
   "source": [
    "Calculate the QR decomposition of a given matrix using NumPy"
   ]
  },
  {
   "cell_type": "code",
   "execution_count": 7,
   "id": "33db6c4b",
   "metadata": {},
   "outputs": [
    {
     "name": "stdout",
     "output_type": "stream",
     "text": [
      "[[1 0]\n",
      " [2 4]]\n",
      "\n",
      "Q:\n",
      " [[-0.4472136  -0.89442719]\n",
      " [-0.89442719  0.4472136 ]]\n",
      "\n",
      "R:\n",
      " [[-2.23606798 -3.57770876]\n",
      " [ 0.          1.78885438]]\n"
     ]
    }
   ],
   "source": [
    "import numpy as np\n",
    "\n",
    "\n",
    "# Original matrix\n",
    "matrix1 = np.array([[1, 0], [2, 4]])\n",
    "print(matrix1)\n",
    "\n",
    "# Decomposition of the said matrix\n",
    "q, r = np.linalg.qr(matrix1)\n",
    "print('\\nQ:\\n', q)\n",
    "print('\\nR:\\n', r)\n"
   ]
  }
 ],
 "metadata": {
  "kernelspec": {
   "display_name": "Python 3 (ipykernel)",
   "language": "python",
   "name": "python3"
  },
  "language_info": {
   "codemirror_mode": {
    "name": "ipython",
    "version": 3
   },
   "file_extension": ".py",
   "mimetype": "text/x-python",
   "name": "python",
   "nbconvert_exporter": "python",
   "pygments_lexer": "ipython3",
   "version": "3.11.3"
  }
 },
 "nbformat": 4,
 "nbformat_minor": 5
}

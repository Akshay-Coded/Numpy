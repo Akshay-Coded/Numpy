{
 "cells": [
  {
   "cell_type": "code",
   "execution_count": 1,
   "id": "af19dae4",
   "metadata": {},
   "outputs": [
    {
     "name": "stdout",
     "output_type": "stream",
     "text": [
      "Requirement already satisfied: numpy in c:\\users\\akshay r\\appdata\\local\\programs\\python\\python311\\lib\\site-packages (1.24.3)\n"
     ]
    }
   ],
   "source": [
    "!pip install numpy"
   ]
  },
  {
   "cell_type": "code",
   "execution_count": 4,
   "id": "6be6ce6a",
   "metadata": {},
   "outputs": [],
   "source": [
    "import numpy as np"
   ]
  },
  {
   "cell_type": "markdown",
   "id": "054a3794",
   "metadata": {},
   "source": [
    "##### initializing different arrays"
   ]
  },
  {
   "cell_type": "code",
   "execution_count": 6,
   "id": "cb110cb9",
   "metadata": {},
   "outputs": [
    {
     "data": {
      "text/plain": [
       "array([[1., 0., 0.],\n",
       "       [0., 1., 0.],\n",
       "       [0., 0., 1.]])"
      ]
     },
     "execution_count": 6,
     "metadata": {},
     "output_type": "execute_result"
    }
   ],
   "source": [
    "#creating identity matrix\n",
    "np.identity(3)"
   ]
  },
  {
   "cell_type": "code",
   "execution_count": 8,
   "id": "fd49d27e",
   "metadata": {},
   "outputs": [
    {
     "data": {
      "text/plain": [
       "array([[0., 0., 0.],\n",
       "       [0., 0., 0.]])"
      ]
     },
     "execution_count": 8,
     "metadata": {},
     "output_type": "execute_result"
    }
   ],
   "source": [
    "#creating a matrix of zeroes\n",
    "np.zeros([2,3])"
   ]
  },
  {
   "cell_type": "code",
   "execution_count": 9,
   "id": "2c688d01",
   "metadata": {},
   "outputs": [
    {
     "data": {
      "text/plain": [
       "array([[1., 1.],\n",
       "       [1., 1.],\n",
       "       [1., 1.],\n",
       "       [1., 1.]])"
      ]
     },
     "execution_count": 9,
     "metadata": {},
     "output_type": "execute_result"
    }
   ],
   "source": [
    "#creating a matrix of ones\n",
    "np.ones([4,2])"
   ]
  },
  {
   "cell_type": "code",
   "execution_count": 10,
   "id": "4ba0bc4c",
   "metadata": {},
   "outputs": [
    {
     "data": {
      "text/plain": [
       "array([[8, 8, 8],\n",
       "       [8, 8, 8],\n",
       "       [8, 8, 8]])"
      ]
     },
     "execution_count": 10,
     "metadata": {},
     "output_type": "execute_result"
    }
   ],
   "source": [
    "#creating an matrix of certain elements\n",
    "np.full((3,3),8)"
   ]
  },
  {
   "cell_type": "code",
   "execution_count": 11,
   "id": "8810e9b1",
   "metadata": {},
   "outputs": [
    {
     "data": {
      "text/plain": [
       "array([[[0.38972471, 0.62412505, 0.42303229],\n",
       "        [0.32261077, 0.37057623, 0.57448692],\n",
       "        [0.60628144, 0.03678772, 0.1519745 ]],\n",
       "\n",
       "       [[0.94472191, 0.018633  , 0.54328688],\n",
       "        [0.59070808, 0.92376936, 0.92868142],\n",
       "        [0.02752191, 0.71757778, 0.36774591]]])"
      ]
     },
     "execution_count": 11,
     "metadata": {},
     "output_type": "execute_result"
    }
   ],
   "source": [
    "#creating a matrix of random numbers\n",
    "np.random.rand(2,3,3)"
   ]
  },
  {
   "cell_type": "code",
   "execution_count": 12,
   "id": "914504ab",
   "metadata": {},
   "outputs": [
    {
     "data": {
      "text/plain": [
       "array([[ 1,  4],\n",
       "       [ 2, 18],\n",
       "       [14, 11]])"
      ]
     },
     "execution_count": 12,
     "metadata": {},
     "output_type": "execute_result"
    }
   ],
   "source": [
    "#creating a matrix of random integers\n",
    "np.random.randint(1,20,size=(3,2))"
   ]
  },
  {
   "cell_type": "markdown",
   "id": "3bf24a95",
   "metadata": {},
   "source": [
    "problem 1:"
   ]
  },
  {
   "cell_type": "code",
   "execution_count": 13,
   "id": "ab8025f9",
   "metadata": {},
   "outputs": [
    {
     "name": "stdout",
     "output_type": "stream",
     "text": [
      "[[1. 1. 1. 1. 1.]\n",
      " [1. 0. 0. 0. 1.]\n",
      " [1. 0. 9. 0. 1.]\n",
      " [1. 0. 0. 0. 1.]\n",
      " [1. 1. 1. 1. 1.]]\n"
     ]
    }
   ],
   "source": [
    "o=np.ones((5,5))\n",
    "z=np.zeros((3,3))\n",
    "z[1,1]=9\n",
    "o[1:4,1:4]=z\n",
    "print(o)"
   ]
  }
 ],
 "metadata": {
  "kernelspec": {
   "display_name": "Python 3 (ipykernel)",
   "language": "python",
   "name": "python3"
  },
  "language_info": {
   "codemirror_mode": {
    "name": "ipython",
    "version": 3
   },
   "file_extension": ".py",
   "mimetype": "text/x-python",
   "name": "python",
   "nbconvert_exporter": "python",
   "pygments_lexer": "ipython3",
   "version": "3.11.3"
  }
 },
 "nbformat": 4,
 "nbformat_minor": 5
}
